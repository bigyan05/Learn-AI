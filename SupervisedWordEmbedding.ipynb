{
 "cells": [
  {
   "cell_type": "markdown",
   "id": "5b9fca95-a687-436a-bd76-a9c0cf441d4f",
   "metadata": {},
   "source": []
  },
  {
   "cell_type": "code",
   "execution_count": 1,
   "id": "ca43a56c-759b-46a0-9d69-166fa604e185",
   "metadata": {},
   "outputs": [
    {
     "name": "stderr",
     "output_type": "stream",
     "text": [
      "2025-07-07 16:37:55.601465: I tensorflow/core/util/port.cc:153] oneDNN custom operations are on. You may see slightly different numerical results due to floating-point round-off errors from different computation orders. To turn them off, set the environment variable `TF_ENABLE_ONEDNN_OPTS=0`.\n",
      "2025-07-07 16:37:55.624890: E external/local_xla/xla/stream_executor/cuda/cuda_fft.cc:467] Unable to register cuFFT factory: Attempting to register factory for plugin cuFFT when one has already been registered\n",
      "WARNING: All log messages before absl::InitializeLog() is called are written to STDERR\n",
      "E0000 00:00:1751906275.650008    3028 cuda_dnn.cc:8579] Unable to register cuDNN factory: Attempting to register factory for plugin cuDNN when one has already been registered\n",
      "E0000 00:00:1751906275.655087    3028 cuda_blas.cc:1407] Unable to register cuBLAS factory: Attempting to register factory for plugin cuBLAS when one has already been registered\n",
      "W0000 00:00:1751906275.677372    3028 computation_placer.cc:177] computation placer already registered. Please check linkage and avoid linking the same target more than once.\n",
      "W0000 00:00:1751906275.677433    3028 computation_placer.cc:177] computation placer already registered. Please check linkage and avoid linking the same target more than once.\n",
      "W0000 00:00:1751906275.677436    3028 computation_placer.cc:177] computation placer already registered. Please check linkage and avoid linking the same target more than once.\n",
      "W0000 00:00:1751906275.677438    3028 computation_placer.cc:177] computation placer already registered. Please check linkage and avoid linking the same target more than once.\n",
      "2025-07-07 16:37:55.686057: I tensorflow/core/platform/cpu_feature_guard.cc:210] This TensorFlow binary is optimized to use available CPU instructions in performance-critical operations.\n",
      "To enable the following instructions: AVX2 AVX_VNNI FMA, in other operations, rebuild TensorFlow with the appropriate compiler flags.\n"
     ]
    }
   ],
   "source": [
    "import numpy as np\n",
    "from tensorflow.keras.preprocessing.text import one_hot\n",
    "from tensorflow.keras.preprocessing.sequence import pad_sequences\n",
    "from tensorflow.keras.models import Sequential\n",
    "from tensorflow.keras.layers import Dense\n",
    "from tensorflow.keras.layers import Flatten\n",
    "from tensorflow.keras.layers import Embedding"
   ]
  },
  {
   "cell_type": "markdown",
   "id": "81a0e8d6-bdbb-4401-a341-089638738634",
   "metadata": {},
   "source": [
    "Trying out with small made out data"
   ]
  },
  {
   "cell_type": "code",
   "execution_count": 2,
   "id": "ed9ad6ec-197c-4184-9709-57c7bccf8e46",
   "metadata": {},
   "outputs": [],
   "source": [
    "reviews = ['nice food',\n",
    "        'amazing restaurant',\n",
    "        'too good',\n",
    "        'just loved it!',\n",
    "        'will go again',\n",
    "        'horrible food',\n",
    "        'never go there',\n",
    "        'poor service',\n",
    "        'poor quality',\n",
    "        'needs improvement']\n",
    "\n",
    "sentiment = np.array([1,1,1,1,1,0,0,0,0,0])"
   ]
  },
  {
   "cell_type": "code",
   "execution_count": 3,
   "id": "78869f2f-e6a5-47db-90ae-e0f9624e29ef",
   "metadata": {},
   "outputs": [
    {
     "data": {
      "text/plain": [
       "[26, 22]"
      ]
     },
     "execution_count": 3,
     "metadata": {},
     "output_type": "execute_result"
    }
   ],
   "source": [
    "one_hot(\"amazing restaurant\",30)"
   ]
  },
  {
   "cell_type": "markdown",
   "id": "95d33856-693a-4dab-9452-45fedf7057cd",
   "metadata": {},
   "source": [
    "keras one hot gave amazing as 7 and restaurant 12, randomly among 1-30"
   ]
  },
  {
   "cell_type": "code",
   "execution_count": 4,
   "id": "79353172-b3d7-43b6-a535-16333e8c668b",
   "metadata": {},
   "outputs": [
    {
     "data": {
      "text/plain": [
       "[[19, 10],\n",
       " [26, 22],\n",
       " [22, 6],\n",
       " [25, 23, 11],\n",
       " [25, 18, 25],\n",
       " [13, 10],\n",
       " [24, 18, 20],\n",
       " [13, 18],\n",
       " [13, 15],\n",
       " [28, 7]]"
      ]
     },
     "execution_count": 4,
     "metadata": {},
     "output_type": "execute_result"
    }
   ],
   "source": [
    "vocab_size = 30  # gives random numbering to words from 1-30\n",
    "encoded_reviews = [one_hot(d, vocab_size) for d in reviews]  # simple list comprehension and performing one_hot on each elements\n",
    "encoded_reviews"
   ]
  },
  {
   "cell_type": "markdown",
   "id": "9484d01e-c6c2-4729-af82-c1b7db7f9854",
   "metadata": {},
   "source": [
    "My given reviews are now encoded\n"
   ]
  },
  {
   "cell_type": "markdown",
   "id": "05705540-9ae2-4299-8168-4e24791c9d77",
   "metadata": {},
   "source": [
    "Taking the max sentence size and perform padding so that neuron has static arhcitecture"
   ]
  },
  {
   "cell_type": "code",
   "execution_count": 5,
   "id": "c678c781-cb6c-4d5d-9844-b5e16d0fccb0",
   "metadata": {},
   "outputs": [
    {
     "name": "stdout",
     "output_type": "stream",
     "text": [
      "[[19 10  0]\n",
      " [26 22  0]\n",
      " [22  6  0]\n",
      " [25 23 11]\n",
      " [25 18 25]\n",
      " [13 10  0]\n",
      " [24 18 20]\n",
      " [13 18  0]\n",
      " [13 15  0]\n",
      " [28  7  0]]\n"
     ]
    }
   ],
   "source": [
    "max_length = 3\n",
    "padded_reviews = pad_sequences(encoded_reviews, maxlen=max_length, padding='post')\n",
    "print(padded_reviews)"
   ]
  },
  {
   "cell_type": "markdown",
   "id": "5a42e6cc-d2dc-4851-8879-9c5d4822e735",
   "metadata": {},
   "source": [
    "Now all of them are of same size"
   ]
  },
  {
   "cell_type": "code",
   "execution_count": 6,
   "id": "b155a4b9-fec7-4bad-9867-8f28c14c39a4",
   "metadata": {},
   "outputs": [],
   "source": [
    "embeded_vector_size = 5  # Size of each word vector\n",
    "\n",
    "model = Sequential()\n",
    "model.add(Embedding(vocab_size, embeded_vector_size, name=\"embedding\"))  # Turn words into vectors\n",
    "model.add(Flatten())  # Flatten the 2D output into 1D\n",
    "model.add(Dense(1, activation='sigmoid'))  # Output layer for binary classification"
   ]
  },
  {
   "cell_type": "markdown",
   "id": "ff3e23c3-aa36-400d-b680-0f2e2a6ac587",
   "metadata": {},
   "source": [
    "Making the variables X and y just to make it common practice after this"
   ]
  },
  {
   "cell_type": "code",
   "execution_count": 7,
   "id": "09540756-021a-48a3-ba7b-822e45627964",
   "metadata": {},
   "outputs": [],
   "source": [
    "X = padded_reviews\n",
    "y = sentiment"
   ]
  },
  {
   "cell_type": "code",
   "execution_count": 9,
   "id": "cf4f1c40-bc92-45cf-9bcc-c393cc2d4bc8",
   "metadata": {},
   "outputs": [
    {
     "data": {
      "text/html": [
       "<pre style=\"white-space:pre;overflow-x:auto;line-height:normal;font-family:Menlo,'DejaVu Sans Mono',consolas,'Courier New',monospace\"><span style=\"font-weight: bold\">Model: \"sequential\"</span>\n",
       "</pre>\n"
      ],
      "text/plain": [
       "\u001b[1mModel: \"sequential\"\u001b[0m\n"
      ]
     },
     "metadata": {},
     "output_type": "display_data"
    },
    {
     "data": {
      "text/html": [
       "<pre style=\"white-space:pre;overflow-x:auto;line-height:normal;font-family:Menlo,'DejaVu Sans Mono',consolas,'Courier New',monospace\">┏━━━━━━━━━━━━━━━━━━━━━━━━━━━━━━━━━┳━━━━━━━━━━━━━━━━━━━━━━━━┳━━━━━━━━━━━━━━━┓\n",
       "┃<span style=\"font-weight: bold\"> Layer (type)                    </span>┃<span style=\"font-weight: bold\"> Output Shape           </span>┃<span style=\"font-weight: bold\">       Param # </span>┃\n",
       "┡━━━━━━━━━━━━━━━━━━━━━━━━━━━━━━━━━╇━━━━━━━━━━━━━━━━━━━━━━━━╇━━━━━━━━━━━━━━━┩\n",
       "│ embedding (<span style=\"color: #0087ff; text-decoration-color: #0087ff\">Embedding</span>)           │ (<span style=\"color: #00d7ff; text-decoration-color: #00d7ff\">None</span>, <span style=\"color: #00af00; text-decoration-color: #00af00\">3</span>, <span style=\"color: #00af00; text-decoration-color: #00af00\">5</span>)           │           <span style=\"color: #00af00; text-decoration-color: #00af00\">150</span> │\n",
       "├─────────────────────────────────┼────────────────────────┼───────────────┤\n",
       "│ flatten (<span style=\"color: #0087ff; text-decoration-color: #0087ff\">Flatten</span>)               │ (<span style=\"color: #00d7ff; text-decoration-color: #00d7ff\">None</span>, <span style=\"color: #00af00; text-decoration-color: #00af00\">15</span>)             │             <span style=\"color: #00af00; text-decoration-color: #00af00\">0</span> │\n",
       "├─────────────────────────────────┼────────────────────────┼───────────────┤\n",
       "│ dense (<span style=\"color: #0087ff; text-decoration-color: #0087ff\">Dense</span>)                   │ (<span style=\"color: #00d7ff; text-decoration-color: #00d7ff\">None</span>, <span style=\"color: #00af00; text-decoration-color: #00af00\">1</span>)              │            <span style=\"color: #00af00; text-decoration-color: #00af00\">16</span> │\n",
       "└─────────────────────────────────┴────────────────────────┴───────────────┘\n",
       "</pre>\n"
      ],
      "text/plain": [
       "┏━━━━━━━━━━━━━━━━━━━━━━━━━━━━━━━━━┳━━━━━━━━━━━━━━━━━━━━━━━━┳━━━━━━━━━━━━━━━┓\n",
       "┃\u001b[1m \u001b[0m\u001b[1mLayer (type)                   \u001b[0m\u001b[1m \u001b[0m┃\u001b[1m \u001b[0m\u001b[1mOutput Shape          \u001b[0m\u001b[1m \u001b[0m┃\u001b[1m \u001b[0m\u001b[1m      Param #\u001b[0m\u001b[1m \u001b[0m┃\n",
       "┡━━━━━━━━━━━━━━━━━━━━━━━━━━━━━━━━━╇━━━━━━━━━━━━━━━━━━━━━━━━╇━━━━━━━━━━━━━━━┩\n",
       "│ embedding (\u001b[38;5;33mEmbedding\u001b[0m)           │ (\u001b[38;5;45mNone\u001b[0m, \u001b[38;5;34m3\u001b[0m, \u001b[38;5;34m5\u001b[0m)           │           \u001b[38;5;34m150\u001b[0m │\n",
       "├─────────────────────────────────┼────────────────────────┼───────────────┤\n",
       "│ flatten (\u001b[38;5;33mFlatten\u001b[0m)               │ (\u001b[38;5;45mNone\u001b[0m, \u001b[38;5;34m15\u001b[0m)             │             \u001b[38;5;34m0\u001b[0m │\n",
       "├─────────────────────────────────┼────────────────────────┼───────────────┤\n",
       "│ dense (\u001b[38;5;33mDense\u001b[0m)                   │ (\u001b[38;5;45mNone\u001b[0m, \u001b[38;5;34m1\u001b[0m)              │            \u001b[38;5;34m16\u001b[0m │\n",
       "└─────────────────────────────────┴────────────────────────┴───────────────┘\n"
      ]
     },
     "metadata": {},
     "output_type": "display_data"
    },
    {
     "data": {
      "text/html": [
       "<pre style=\"white-space:pre;overflow-x:auto;line-height:normal;font-family:Menlo,'DejaVu Sans Mono',consolas,'Courier New',monospace\"><span style=\"font-weight: bold\"> Total params: </span><span style=\"color: #00af00; text-decoration-color: #00af00\">166</span> (664.00 B)\n",
       "</pre>\n"
      ],
      "text/plain": [
       "\u001b[1m Total params: \u001b[0m\u001b[38;5;34m166\u001b[0m (664.00 B)\n"
      ]
     },
     "metadata": {},
     "output_type": "display_data"
    },
    {
     "data": {
      "text/html": [
       "<pre style=\"white-space:pre;overflow-x:auto;line-height:normal;font-family:Menlo,'DejaVu Sans Mono',consolas,'Courier New',monospace\"><span style=\"font-weight: bold\"> Trainable params: </span><span style=\"color: #00af00; text-decoration-color: #00af00\">166</span> (664.00 B)\n",
       "</pre>\n"
      ],
      "text/plain": [
       "\u001b[1m Trainable params: \u001b[0m\u001b[38;5;34m166\u001b[0m (664.00 B)\n"
      ]
     },
     "metadata": {},
     "output_type": "display_data"
    },
    {
     "data": {
      "text/html": [
       "<pre style=\"white-space:pre;overflow-x:auto;line-height:normal;font-family:Menlo,'DejaVu Sans Mono',consolas,'Courier New',monospace\"><span style=\"font-weight: bold\"> Non-trainable params: </span><span style=\"color: #00af00; text-decoration-color: #00af00\">0</span> (0.00 B)\n",
       "</pre>\n"
      ],
      "text/plain": [
       "\u001b[1m Non-trainable params: \u001b[0m\u001b[38;5;34m0\u001b[0m (0.00 B)\n"
      ]
     },
     "metadata": {},
     "output_type": "display_data"
    }
   ],
   "source": [
    "model.compile(optimizer='adam', loss='binary_crossentropy', metrics=['accuracy'])\n",
    "model.build(input_shape=(None, max_length))\n",
    "model.summary()"
   ]
  },
  {
   "cell_type": "code",
   "execution_count": 10,
   "id": "30a9f3d5-0904-4576-bfea-10032d45d68b",
   "metadata": {},
   "outputs": [
    {
     "name": "stderr",
     "output_type": "stream",
     "text": [
      "WARNING: All log messages before absl::InitializeLog() is called are written to STDERR\n",
      "I0000 00:00:1751906400.033217    3099 service.cc:152] XLA service 0x75777c005260 initialized for platform CUDA (this does not guarantee that XLA will be used). Devices:\n",
      "I0000 00:00:1751906400.033282    3099 service.cc:160]   StreamExecutor device (0): NVIDIA GeForce RTX 4050 Laptop GPU, Compute Capability 8.9\n",
      "2025-07-07 16:40:00.090824: I tensorflow/compiler/mlir/tensorflow/utils/dump_mlir_util.cc:269] disabling MLIR crash reproducer, set env var `MLIR_CRASH_REPRODUCER_DIRECTORY` to enable.\n",
      "I0000 00:00:1751906400.337297    3099 cuda_dnn.cc:529] Loaded cuDNN version 90300\n",
      "I0000 00:00:1751906400.975811    3099 device_compiler.h:188] Compiled cluster using XLA!  This line is logged at most once for the lifetime of the process.\n"
     ]
    },
    {
     "data": {
      "text/plain": [
       "<keras.src.callbacks.history.History at 0x75787a6f2a00>"
      ]
     },
     "execution_count": 10,
     "metadata": {},
     "output_type": "execute_result"
    }
   ],
   "source": [
    "model.fit(X, y, epochs=50, verbose=0)"
   ]
  },
  {
   "cell_type": "code",
   "execution_count": 11,
   "id": "9402903f-48b2-4277-a9bf-3b7a3214ffb5",
   "metadata": {},
   "outputs": [
    {
     "name": "stdout",
     "output_type": "stream",
     "text": [
      "\u001b[1m1/1\u001b[0m \u001b[32m━━━━━━━━━━━━━━━━━━━━\u001b[0m\u001b[37m\u001b[0m \u001b[1m1s\u001b[0m 715ms/step - accuracy: 1.0000 - loss: 0.5971\n"
     ]
    },
    {
     "data": {
      "text/plain": [
       "1.0"
      ]
     },
     "execution_count": 11,
     "metadata": {},
     "output_type": "execute_result"
    }
   ],
   "source": [
    "loss, accuracy = model.evaluate(X, y)\n",
    "accuracy"
   ]
  },
  {
   "cell_type": "code",
   "execution_count": 17,
   "id": "01cd173c-ae97-4457-81df-09da6b909026",
   "metadata": {},
   "outputs": [
    {
     "data": {
      "text/plain": [
       "array([[ 0.01860758,  0.00530918, -0.00361782, -0.0180904 ,  0.02473282],\n",
       "       [ 0.0339899 , -0.04253189, -0.00745092,  0.04166878,  0.04511345],\n",
       "       [-0.00175641, -0.01460741, -0.01704478, -0.02380602, -0.02804444],\n",
       "       [-0.00868622, -0.03307068, -0.02552002,  0.01995033, -0.01580159],\n",
       "       [-0.02875379, -0.00807948, -0.04918018, -0.02344762,  0.04784309],\n",
       "       [-0.02765667, -0.00527657, -0.02176096, -0.00952389,  0.0482204 ],\n",
       "       [-0.0321962 , -0.05258087, -0.09716095, -0.04492914, -0.08304841],\n",
       "       [ 0.02351359,  0.06117171,  0.08316506,  0.02764978,  0.05843484],\n",
       "       [ 0.04997906, -0.00759761, -0.04056442, -0.00056816, -0.01400916],\n",
       "       [-0.04558691, -0.00080311,  0.02859594,  0.00931307,  0.00502491],\n",
       "       [ 0.04069296,  0.03336495, -0.00448856,  0.04334339,  0.00882232],\n",
       "       [ 0.01140852,  0.0389963 ,  0.04318121,  0.07038363,  0.05525807],\n",
       "       [ 0.04988662,  0.01081318, -0.01914179, -0.04985606, -0.01079569],\n",
       "       [-0.13388366,  0.03593134, -0.10592492, -0.1340065 , -0.03768404],\n",
       "       [ 0.004706  ,  0.01817052,  0.04633163, -0.00733561,  0.02055066],\n",
       "       [ 0.05371127,  0.05367045,  0.08756533,  0.00831915,  0.06576426],\n",
       "       [-0.0031044 ,  0.00223647,  0.04140563, -0.03545862,  0.04838958],\n",
       "       [ 0.00761874, -0.01336894, -0.00807946, -0.0479745 , -0.02815584],\n",
       "       [ 0.05971757,  0.04329935,  0.07143307,  0.02972891,  0.05265147],\n",
       "       [ 0.07949639, -0.01512811,  0.09900574,  0.05377626,  0.08128713],\n",
       "       [-0.05941023, -0.09729712, -0.06769585, -0.03655823, -0.0463251 ],\n",
       "       [-0.00674224, -0.0428936 , -0.03836678, -0.04185256,  0.01453931],\n",
       "       [ 0.04294218, -0.09980083, -0.04192181, -0.04566704,  0.03779273],\n",
       "       [-0.01020437, -0.06328399, -0.03223816, -0.03140611, -0.04005996],\n",
       "       [-0.00861824,  0.08377676, -0.06802578, -0.05355199, -0.08501782],\n",
       "       [ 0.12603791,  0.04427475,  0.08720406,  0.08081342,  0.07754896],\n",
       "       [ 0.07358743, -0.03702399,  0.09400085,  0.01665702,  0.01063377],\n",
       "       [ 0.03919372, -0.02925028,  0.03228604, -0.00359142, -0.04803575],\n",
       "       [-0.0166923 ,  0.00988221, -0.05900407, -0.04574688, -0.0653974 ],\n",
       "       [-0.030167  , -0.0398673 , -0.00573818,  0.04393419,  0.03832818]],\n",
       "      dtype=float32)"
      ]
     },
     "execution_count": 17,
     "metadata": {},
     "output_type": "execute_result"
    }
   ],
   "source": [
    "wts = model.get_layer(\"embedding\").get_weights()[0]\n",
    "wts"
   ]
  },
  {
   "cell_type": "code",
   "execution_count": 16,
   "id": "0c72fec0-d6fd-417b-9cd8-8ccb0becaca6",
   "metadata": {},
   "outputs": [
    {
     "data": {
      "text/plain": [
       "30"
      ]
     },
     "execution_count": 16,
     "metadata": {},
     "output_type": "execute_result"
    }
   ],
   "source": [
    "len(wts)"
   ]
  },
  {
   "cell_type": "markdown",
   "id": "79c6df94-ac14-492b-bd0c-52af5248c019",
   "metadata": {},
   "source": [
    "Now checking the word embedding for few words (nice,amazing, poor)"
   ]
  },
  {
   "cell_type": "code",
   "execution_count": 18,
   "id": "821f5b70-4c8f-49e8-b658-a8258f2374d9",
   "metadata": {},
   "outputs": [
    {
     "data": {
      "text/plain": [
       "array([ 0.07949639, -0.01512811,  0.09900574,  0.05377626,  0.08128713],\n",
       "      dtype=float32)"
      ]
     },
     "execution_count": 18,
     "metadata": {},
     "output_type": "execute_result"
    }
   ],
   "source": [
    "wts[19]"
   ]
  },
  {
   "cell_type": "code",
   "execution_count": 21,
   "id": "ec08b073-33fa-4a39-860b-e77e1f66b065",
   "metadata": {},
   "outputs": [
    {
     "data": {
      "text/plain": [
       "array([ 0.07358743, -0.03702399,  0.09400085,  0.01665702,  0.01063377],\n",
       "      dtype=float32)"
      ]
     },
     "execution_count": 21,
     "metadata": {},
     "output_type": "execute_result"
    }
   ],
   "source": [
    "wts[26]"
   ]
  },
  {
   "cell_type": "markdown",
   "id": "e07a851a-03be-445f-a2a0-dc8c5f936f55",
   "metadata": {},
   "source": [
    "Although nice and amazing are similar, the embedded vectors seems different here but in large datasets this will make sense"
   ]
  },
  {
   "cell_type": "code",
   "execution_count": 22,
   "id": "f594362a-94d6-4947-8629-5aea98090ded",
   "metadata": {},
   "outputs": [
    {
     "data": {
      "text/plain": [
       "array([-0.13388366,  0.03593134, -0.10592492, -0.1340065 , -0.03768404],\n",
       "      dtype=float32)"
      ]
     },
     "execution_count": 22,
     "metadata": {},
     "output_type": "execute_result"
    }
   ],
   "source": [
    "wts[13]"
   ]
  },
  {
   "cell_type": "code",
   "execution_count": null,
   "id": "2f91de23-7778-4bfa-b88f-9d11a77a45dc",
   "metadata": {},
   "outputs": [],
   "source": []
  }
 ],
 "metadata": {
  "kernelspec": {
   "display_name": "Python 3 (ipykernel)",
   "language": "python",
   "name": "python3"
  },
  "language_info": {
   "codemirror_mode": {
    "name": "ipython",
    "version": 3
   },
   "file_extension": ".py",
   "mimetype": "text/x-python",
   "name": "python",
   "nbconvert_exporter": "python",
   "pygments_lexer": "ipython3",
   "version": "3.9.21"
  }
 },
 "nbformat": 4,
 "nbformat_minor": 5
}
